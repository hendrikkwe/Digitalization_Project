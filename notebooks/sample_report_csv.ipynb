{
 "cells": [
  {
   "cell_type": "code",
   "execution_count": 3,
   "metadata": {},
   "outputs": [
    {
     "name": "stdout",
     "output_type": "stream",
     "text": [
      "     Unnamed: 0                                           pdf_name  page_nr  \\\n",
      "321         322  Allianz Global Investors GmbH_Asset Manager_EN...       50   \n",
      "70           70  Allianz Global Investors GmbH_Asset Manager_EN...       14   \n",
      "209         209  Allianz Global Investors GmbH_Asset Manager_EN...       31   \n",
      "549         550  Allianz Global Investors GmbH_Asset Manager_EN...       85   \n",
      "712         713  Allianz Global Investors GmbH_Asset Manager_EN...      109   \n",
      "..          ...                                                ...      ...   \n",
      "60           60  Allianz Global Investors GmbH_Asset Manager_EN...       11   \n",
      "259         260  Allianz Global Investors GmbH_Asset Manager_EN...       40   \n",
      "917         918  Allianz Global Investors GmbH_Asset Manager_EN...      140   \n",
      "398         399  Allianz Global Investors GmbH_Asset Manager_EN...       64   \n",
      "673         674  Allianz Global Investors GmbH_Asset Manager_EN...      102   \n",
      "\n",
      "     page_section  climate_related_no  climate_related_yes  \\\n",
      "321             1            0.001819             0.998181   \n",
      "70              0            0.001489             0.998511   \n",
      "209             0            0.002345             0.997655   \n",
      "549             0            0.002399             0.997601   \n",
      "712             0            0.994068             0.005932   \n",
      "..            ...                 ...                  ...   \n",
      "60              0            0.043910             0.956090   \n",
      "259             1            0.002632             0.997368   \n",
      "917             0            0.002438             0.997562   \n",
      "398             0            0.994610             0.005390   \n",
      "673             0            0.001738             0.998262   \n",
      "\n",
      "     domain_MetricsTargets  domain_RiskManagement  domain_Strategy  \\\n",
      "321               0.020486               0.127888         0.844797   \n",
      "70                0.006917               0.018731         0.966931   \n",
      "209               0.005670               0.415904         0.519527   \n",
      "549               0.006161               0.073825         0.901381   \n",
      "712                    NaN                    NaN              NaN   \n",
      "..                     ...                    ...              ...   \n",
      "60                0.005864               0.300403         0.575564   \n",
      "259               0.052921               0.031150         0.882487   \n",
      "917               0.109922               0.024909         0.789057   \n",
      "398                    NaN                    NaN              NaN   \n",
      "673               0.008908               0.022618         0.871663   \n",
      "\n",
      "     domain_Governance  ron_risk  ron_opportunity  ron_neutral  \\\n",
      "321           0.006829  0.020267         0.029608     0.950125   \n",
      "70            0.007421  0.002783         0.961086     0.036131   \n",
      "209           0.058900  0.029325         0.022977     0.947697   \n",
      "549           0.018633  0.046036         0.013579     0.940385   \n",
      "712                NaN       NaN              NaN          NaN   \n",
      "..                 ...       ...              ...          ...   \n",
      "60            0.118169  0.012772         0.368289     0.618939   \n",
      "259           0.033442  0.017502         0.042829     0.939669   \n",
      "917           0.076112  0.017132         0.043215     0.939653   \n",
      "398                NaN       NaN              NaN          NaN   \n",
      "673           0.096811  0.007872         0.067310     0.924818   \n",
      "\n",
      "     transition_risk_label                                               text  \n",
      "321                    NaN  Nevertheless, we take into consideration the r...  \n",
      "70                     NaN  We are constantly learning and testing innovat...  \n",
      "209                    NaN  participantsCorporate Sustainability Reporting...  \n",
      "549                    NaN  We consider making public statements in respec...  \n",
      "712                    NaN  Our efforts to support employee wellbeing are ...  \n",
      "..                     ...                                                ...  \n",
      "60                     NaN  Since 2018, Coalition Greenwich has also condu...  \n",
      "259                    NaN  Principles 4 8 39 Allianz Global Investors Sus...  \n",
      "917                    NaN  2019 ESG GlobalPrinciples 4 10 139 Allianz Glo...  \n",
      "398                    NaN  03.1 Developing our engagement strategy more s...  \n",
      "673                    NaN  As the first step in our new corporate sustain...  \n",
      "\n",
      "[100 rows x 15 columns]\n"
     ]
    }
   ],
   "source": [
    "import pandas as pd\n",
    "\n",
    "# Replace 'your_file.csv' with the actual name of your CSV file\n",
    "file_path = 'outputs/Allianz Global Investors GmbH_Asset Manager_EN_2022.csv'\n",
    "\n",
    "# Read the CSV file into a DataFrame\n",
    "df = pd.read_csv(file_path, sep=\";\")\n",
    "\n",
    "# Randomly select 20 rows\n",
    "sampled_df = df.sample(n=20, random_state=42)  # Adjust random_state for reproducibility\n",
    "\n",
    "# Display the sampled DataFrame\n",
    "print(sampled_df)\n",
    "\n",
    "# Optionally, you can save the sampled DataFrame to a new CSV file\n",
    "sampled_df.to_csv('Random Sample Allianz Global Investors GmbH_Asset Manager_EN_2022.csv', index=False)\n"
   ]
  },
  {
   "cell_type": "code",
   "execution_count": null,
   "metadata": {},
   "outputs": [],
   "source": []
  }
 ],
 "metadata": {
  "kernelspec": {
   "display_name": "machinel",
   "language": "python",
   "name": "python3"
  },
  "language_info": {
   "codemirror_mode": {
    "name": "ipython",
    "version": 3
   },
   "file_extension": ".py",
   "mimetype": "text/x-python",
   "name": "python",
   "nbconvert_exporter": "python",
   "pygments_lexer": "ipython3",
   "version": "3.8.16"
  }
 },
 "nbformat": 4,
 "nbformat_minor": 2
}
