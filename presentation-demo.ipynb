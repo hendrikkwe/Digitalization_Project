{
 "cells": [
  {
   "cell_type": "code",
   "execution_count": 89,
   "metadata": {},
   "outputs": [],
   "source": [
    "# string = \"The Paris agreement aims for a 1.5 degree economy.\"\n",
    "string = \"To tackle climate change, we have set ourselves concrete targets in the area of sustainability.\""
   ]
  },
  {
   "cell_type": "code",
   "execution_count": 90,
   "metadata": {},
   "outputs": [],
   "source": [
    "import torch\n",
    "import torch.nn.functional as F\n",
    "from transformers import AutoTokenizer, AutoModelForSequenceClassification\n",
    "\n",
    "def climate_related(input_string):\n",
    "    # step 1\n",
    "    tokenizer_climate_related = AutoTokenizer.from_pretrained(\"climatebert/distilroberta-base-climate-detector\")\n",
    "    model_climate_related = AutoModelForSequenceClassification.from_pretrained(\"climatebert/distilroberta-base-climate-detector\")\n",
    "\n",
    "    # step 2\n",
    "    input  = tokenizer_climate_related(input_string, return_tensors=\"pt\")\n",
    "\n",
    "    # step 3\n",
    "    output = model_climate_related(**input)\n",
    "\n",
    "    # step 4\n",
    "    probabilities = F.softmax(output.logits, dim=1)\n",
    "    predicted_class = torch.argmax(probabilities, dim=1).item()\n",
    "\n",
    "    # print results\n",
    "    print(f\"\\u001b[1;36mSentence: {string}\\u001b[0m\")\n",
    "    print(\"\\n\\u001b[1m---- Climate Related ----\\u001b[0m\")\n",
    "    print(f\"Predicted Class: \\u001b[33m{predicted_class} - {model_climate_related.config.id2label[predicted_class]}\\u001b[0m\\n\")\n",
    "    response = {}\n",
    "    for key, label in model_climate_related.config.id2label.items():\n",
    "        response[label] = probabilities[0][key].item()\n",
    "    # print(response)\n",
    "    for key, value in response.items():\n",
    "        print(f\"{key}: {value}\")\n"
   ]
  },
  {
   "cell_type": "code",
   "execution_count": 91,
   "metadata": {},
   "outputs": [],
   "source": [
    "import torch\n",
    "import torch.nn.functional as F\n",
    "from transformers import AutoTokenizer, AutoModelForSequenceClassification\n",
    "\n",
    "def tcfd_domain(input_string):\n",
    "    # step 1\n",
    "    tokenizer_tcfd = AutoTokenizer.from_pretrained(\"climatebert/distilroberta-base-climate-tcfd\")\n",
    "    model_tcfd = AutoModelForSequenceClassification.from_pretrained(\"climatebert/distilroberta-base-climate-tcfd\")\n",
    "\n",
    "    # step 2\n",
    "    input  = tokenizer_tcfd(input_string, return_tensors=\"pt\")\n",
    "\n",
    "    # step 3\n",
    "    output = model_tcfd(**input)\n",
    "\n",
    "    # step 4\n",
    "    probabilities = F.softmax(output.logits, dim=1)\n",
    "    predicted_class = torch.argmax(probabilities, dim=1).item()\n",
    "\n",
    "    # print results\n",
    "    print(f\"\\u001b[1;36mSentence: {string}\\u001b[0m\")\n",
    "    print(\"\\n\\u001b[1m---- TCFD Domain ----\\u001b[0m\")\n",
    "    print(f\"Predicted Class: \\u001b[33m{predicted_class} - {model_tcfd.config.id2label[predicted_class]}\\u001b[0m\\n\")\n",
    "    response = {}\n",
    "    for key, label in model_tcfd.config.id2label.items():\n",
    "        response[label] = probabilities[0][key].item()\n",
    "    # print(response)\n",
    "    for key, value in response.items():\n",
    "        print(f\"{key}: {value}\")\n"
   ]
  },
  {
   "cell_type": "code",
   "execution_count": 92,
   "metadata": {},
   "outputs": [],
   "source": [
    "import torch\n",
    "import torch.nn.functional as F\n",
    "from transformers import AutoTokenizer, AutoModelForSequenceClassification\n",
    "\n",
    "def ron(input_string):\n",
    "    # step 1\n",
    "    tokenizer_ron = AutoTokenizer.from_pretrained(\"climatebert/distilroberta-base-climate-sentiment\")\n",
    "    model_ron = AutoModelForSequenceClassification.from_pretrained(\"climatebert/distilroberta-base-climate-sentiment\")\n",
    "\n",
    "    # step 2\n",
    "    input  = tokenizer_ron(input_string, return_tensors=\"pt\")\n",
    "\n",
    "    # step 3\n",
    "    output = model_ron(**input)\n",
    "\n",
    "    # step 4\n",
    "    probabilities = F.softmax(output.logits, dim=1)\n",
    "    predicted_class = torch.argmax(probabilities, dim=1).item()\n",
    "\n",
    "    # print results\n",
    "    print(f\"\\u001b[1;36mSentence: {string}\\u001b[0m\")\n",
    "    print(\"\\n\\u001b[1m---- Risk, Opportunity or Neutral ----\\u001b[0m\")\n",
    "    print(f\"Predicted Class: \\u001b[33m{predicted_class} - {model_ron.config.id2label[predicted_class]}\\u001b[0m\\n\")\n",
    "    response = {}\n",
    "    for key, label in model_ron.config.id2label.items():\n",
    "        response[label] = probabilities[0][key].item()\n",
    "\n",
    "    # print(response)\n",
    "    for key, value in response.items():\n",
    "        print(f\"{key}: {value}\")\n"
   ]
  },
  {
   "cell_type": "code",
   "execution_count": 106,
   "metadata": {},
   "outputs": [
    {
     "name": "stdout",
     "output_type": "stream",
     "text": [
      "\u001b[1;36mSentence: To tackle climate change, we have set ourselves concrete targets in the area of sustainability.\u001b[0m\n",
      "\n",
      "\u001b[1m---- Climate Related ----\u001b[0m\n",
      "Predicted Class: \u001b[33m1 - yes\u001b[0m\n",
      "\n",
      "no: 0.001801967853680253\n",
      "yes: 0.9981980919837952\n"
     ]
    }
   ],
   "source": [
    "climate_related(string)"
   ]
  },
  {
   "cell_type": "code",
   "execution_count": 107,
   "metadata": {},
   "outputs": [
    {
     "name": "stdout",
     "output_type": "stream",
     "text": [
      "\u001b[1;36mSentence: To tackle climate change, we have set ourselves concrete targets in the area of sustainability.\u001b[0m\n",
      "\n",
      "\u001b[1m---- TCFD Domain ----\u001b[0m\n",
      "Predicted Class: \u001b[33m3 - metrics\u001b[0m\n",
      "\n",
      "governance: 0.004601809196174145\n",
      "risk: 0.00756489485502243\n",
      "strategy: 0.15619777143001556\n",
      "metrics: 0.8316355347633362\n"
     ]
    }
   ],
   "source": [
    "tcfd_domain(string)"
   ]
  },
  {
   "cell_type": "code",
   "execution_count": 108,
   "metadata": {},
   "outputs": [
    {
     "name": "stdout",
     "output_type": "stream",
     "text": [
      "\u001b[1;36mSentence: To tackle climate change, we have set ourselves concrete targets in the area of sustainability.\u001b[0m\n",
      "\n",
      "\u001b[1m---- Risk, Opportunity or Neutral ----\u001b[0m\n",
      "Predicted Class: \u001b[33m1 - neutral\u001b[0m\n",
      "\n",
      "opportunity: 0.05161981284618378\n",
      "neutral: 0.9391902685165405\n",
      "risk: 0.009189935401082039\n"
     ]
    }
   ],
   "source": [
    "ron(string)"
   ]
  }
 ],
 "metadata": {
  "kernelspec": {
   "display_name": "pytorch",
   "language": "python",
   "name": "python3"
  },
  "language_info": {
   "codemirror_mode": {
    "name": "ipython",
    "version": 3
   },
   "file_extension": ".py",
   "mimetype": "text/x-python",
   "name": "python",
   "nbconvert_exporter": "python",
   "pygments_lexer": "ipython3",
   "version": "3.8.16"
  }
 },
 "nbformat": 4,
 "nbformat_minor": 2
}
